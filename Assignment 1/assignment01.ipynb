{
 "cells": [
  {
   "cell_type": "markdown",
   "metadata": {
    "id": "JP3tp2HoGvK_"
   },
   "source": [
    "# Assignment 1\n",
    "\n",
    "This exercise aims to familiarise you with LLM, Python and Kaggle.\n",
    "\n",
    "The task is simple but the preamble is long. The rubrics are intrinsically the same for the rest of this semester."
   ]
  },
  {
   "cell_type": "markdown",
   "metadata": {
    "id": "Ok7p8fkOLgHS"
   },
   "source": [
    "## Submission\n",
    "\n",
    "Only **one** person from the group needs to submit the file. List the whole group names on the cover page.\n",
    "\n",
    "You must submit a **PDF** file to LMS.\n",
    "Generating from Latex is preferred, but conversion from a Word file is fine.\n",
    "\n",
    "Your assignment should satisfy the following formatting requirements:\n",
    "\n",
    "- **$\\leq 300$ words**. Tables and Figures and their associated title or note are not counted.\n",
    "- Provide a **public link** to one and only one `Python` code file at the end of the PDF file. Anyone with the link should be able to access the file without authentication. Do not paste your code into the PDF file.\n",
    "If you have multiple code files, link to the folder and add a *readme* file to explain their usage.\n",
    "- Any data must be stored online and accessible via the code file.\n",
    "- Submission will be checked via **Turnitin**.\n",
    "\n",
    "You will receive a **ZERO** mark if\n",
    "  - there is no valid code link, or\n",
    "  - there is actual code in the PDF file, or\n",
    "  - the data cannot be accessed from the source code, or\n",
    "  - you use any code other than `Python`, or\n",
    "  - your results cannot be replicated by your code, or.\n",
    "  - Turnitin indicates more than 80% similarity or at your marker's discretion.\n",
    "\n"
   ]
  },
  {
   "cell_type": "markdown",
   "metadata": {
    "id": "TqdkrN-8nHSZ"
   },
   "source": [
    "## Writing Guidance\n",
    "\n",
    "Writing is essential not only to this subject and your course but also for your future career. Here are some tips\n",
    "\n",
    "- Consider grammar-checking apps such as [Grammarly](https://www.grammarly.com/). The free edition usually suffices.\n",
    "- Never paste your output to your file as a table. Compile your tables properly.\n",
    "- Do not paste screenshots of figures. They can be exported properly and easily.\n",
    "- ChatGPT is helpful, but it has a writing style we hate. Be careful.\n",
    "\n",
    "Some **rubrics** to guide your writing.\n",
    "1. [**Logic**]\n",
    "  - Sentences and paragraphs must be coherent.\n",
    "  - Any statement must be logical with common econometric and statistical sense.\n",
    "  - Demonstrate that you understand the algorithm if applicable.\n",
    "\n",
    "2. [**Formality**]\n",
    "  - There are not many grammar mistakes, including typos.\n",
    "  - Each paragraph has one clear message.\n",
    "  - Avoid overlong sentences.\n",
    "  - Clear title and section names.\n",
    "  - Clear figures and tables. Label them properly and provide enough descriptions. In principle, a figure or a table should be self-contained.\n",
    "  - Do not paste code.\n",
    "\n",
    "3. [**Curiosity**]\n",
    "  - Use a research spirit on your assignment. It would be great if you could discover something new.\n",
    "  - Try to link the application to some common senses.\n",
    "  - Ask your own questions and answer them.\n",
    "\n",
    "4. [**Technique**]\n",
    "  - Your file should have a public accessible link to your code.\n",
    "  - Your results can be replicated with the above file. This means your data should be online and accessible via your code file.\n",
    "  - Your code should have enough comments for your marker to understand.\n",
    "  - Your code should look friendly with variable names that are easy to interpret.\n",
    "  - Nice coding tricks are always welcome.\n",
    "  - Show that you understand the pros and cons of certain methods."
   ]
  },
  {
   "cell_type": "markdown",
   "metadata": {
    "id": "BodgER-SsJ0E"
   },
   "source": [
    "## Feedback\n",
    "\n",
    "Because of this subject's open-end nature,\n",
    "**no solution** will be provided.\n",
    "Instead, best performing group will be selected to discuss their results.\n",
    "\n",
    "Each group will receive brief and personalised written feedback.\n",
    "You are welcome to discuss\n",
    "more details with us\n",
    "in person for learning purposes.\n",
    "\n"
   ]
  },
  {
   "cell_type": "markdown",
   "metadata": {
    "id": "rw3nNtwNvJZ1"
   },
   "source": [
    "## No Mark Negotiation\n",
    "\n",
    "Decisions based on academic judgement cannot be appealed and are not subject to complaint.\n",
    "For more details, see [university policy](https://ask.unimelb.edu.au/faq/2910/).\n",
    "\n",
    "The only exception is procedural matters."
   ]
  },
  {
   "cell_type": "markdown",
   "metadata": {
    "id": "8FqPUOatMJD_"
   },
   "source": [
    "## AI check\n",
    "\n",
    "If your assignment is considered written by AI with (1) obviously poor logic and (2) wrong methodologies, your group will be subject to an **interview**. Failing to show up the interview will result in a **zero** mark."
   ]
  },
  {
   "cell_type": "markdown",
   "metadata": {
    "id": "8k-ZtyGzJDLX"
   },
   "source": [
    "# Task\n",
    "\n",
    "Use the ADA [competition case](https://www.kaggle.com/competitions/ecom-90025-2025-sm-2-ada-assignment-and-practice/overview) or [here](https://www.kaggle.com/t/f5f7783abf31495f9593b3d93a18f9eb) if the first fails.\n",
    "\n",
    "1. Read the training sample to a Pandas dataframe.\n",
    "1. Report the correlations of explanatory variables with the dependent variable $y$.\n",
    "1. Choose one explanatory variable, denoted by $x$, and estimate a simple linear model\n",
    "$$y=\\beta_0+\\beta_1x + \\epsilon$$\n",
    "1. Use the estimtes of $\\beta_0$ and $\\beta_1$ and the testing sample to predict $y$.\n",
    "1. Submit your prediction file and get your Kaggle score screenshot.\n",
    "1. Show your screenshot in the PDF file. Circle your **group name** in the screenshot.\n"
   ]
  }
 ],
 "metadata": {
  "colab": {
   "authorship_tag": "ABX9TyOim17MCHdxJTL5F4tyhCK+",
   "provenance": [
    {
     "file_id": "1V1aeleSDvRsCYm9uASM1x_QdtkeZPLCn",
     "timestamp": 1720513827088
    }
   ]
  },
  "kernelspec": {
   "display_name": "Python 3",
   "name": "python3"
  },
  "language_info": {
   "name": "python"
  }
 },
 "nbformat": 4,
 "nbformat_minor": 0
}
